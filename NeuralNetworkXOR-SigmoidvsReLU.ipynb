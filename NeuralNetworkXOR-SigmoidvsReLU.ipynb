{
 "cells": [
  {
   "cell_type": "markdown",
   "metadata": {},
   "source": [
    "# Try to solve XOR problem with Neural Network"
   ]
  },
  {
   "cell_type": "markdown",
   "metadata": {},
   "source": [
    "Input layer has 3 nodes <br>\n",
    "Hidden layer has 2 nodes : w_0 is a 3x2 matrix <br>\n",
    "Output layer has 1 node  : w_1 is a 2x1 matrix <br>\n",
    "No bias term"
   ]
  },
  {
   "cell_type": "code",
   "execution_count": 1,
   "metadata": {
    "collapsed": true
   },
   "outputs": [],
   "source": [
    "import numpy as np\n",
    "import torch\n",
    "np.random.seed(1)"
   ]
  },
  {
   "cell_type": "code",
   "execution_count": 2,
   "metadata": {
    "collapsed": true
   },
   "outputs": [],
   "source": [
    "# input dataset, in matrix form\n",
    "# X3 is irrelevant, the XOR signal is from X1 and X2\n",
    "#x = torch.tensor([[0,0,1], [0,1,1],[1,0,1],[1,1,1]],dtype = torch.double)\n",
    "x = np.array([[0,0,1], [0,1,1],[1,0,1],[1,1,1]])"
   ]
  },
  {
   "cell_type": "code",
   "execution_count": 3,
   "metadata": {
    "collapsed": true
   },
   "outputs": [],
   "source": [
    "#convert from numpy array to torch tensor\n",
    "x = torch.from_numpy(x)"
   ]
  },
  {
   "cell_type": "code",
   "execution_count": 4,
   "metadata": {},
   "outputs": [
    {
     "data": {
      "text/plain": [
       "tensor([[ 0.,  0.,  1.],\n",
       "        [ 0.,  1.,  1.],\n",
       "        [ 1.,  0.,  1.],\n",
       "        [ 1.,  1.,  1.]], dtype=torch.float64)"
      ]
     },
     "execution_count": 4,
     "metadata": {},
     "output_type": "execute_result"
    }
   ],
   "source": [
    "#set torch tensor to float64 data type\n",
    "x = x.double()\n",
    "x"
   ]
  },
  {
   "cell_type": "code",
   "execution_count": 5,
   "metadata": {},
   "outputs": [
    {
     "data": {
      "text/plain": [
       "tensor([[ 0.],\n",
       "        [ 1.],\n",
       "        [ 1.],\n",
       "        [ 0.]], dtype=torch.float64)"
      ]
     },
     "execution_count": 5,
     "metadata": {},
     "output_type": "execute_result"
    }
   ],
   "source": [
    "y = np.array([[0,1,1,0]]).T\n",
    "y = torch.from_numpy(y)\n",
    "y = y.double()\n",
    "y"
   ]
  },
  {
   "cell_type": "code",
   "execution_count": 6,
   "metadata": {},
   "outputs": [
    {
     "data": {
      "text/plain": [
       "tensor([[ 0.,  0.,  1.],\n",
       "        [ 0.,  1.,  1.],\n",
       "        [ 1.,  0.,  1.],\n",
       "        [ 1.,  1.,  1.]], dtype=torch.float64)"
      ]
     },
     "execution_count": 6,
     "metadata": {},
     "output_type": "execute_result"
    }
   ],
   "source": [
    "x"
   ]
  },
  {
   "cell_type": "code",
   "execution_count": 7,
   "metadata": {},
   "outputs": [
    {
     "data": {
      "text/plain": [
       "tensor([[ 0.],\n",
       "        [ 1.],\n",
       "        [ 1.],\n",
       "        [ 0.]], dtype=torch.float64)"
      ]
     },
     "execution_count": 7,
     "metadata": {},
     "output_type": "execute_result"
    }
   ],
   "source": [
    "y"
   ]
  },
  {
   "cell_type": "code",
   "execution_count": 8,
   "metadata": {
    "collapsed": true
   },
   "outputs": [],
   "source": [
    "#sigmoid function \n",
    "def sigmoid(x):\n",
    "    return 1.0/(1+torch.exp(-x))"
   ]
  },
  {
   "cell_type": "code",
   "execution_count": 51,
   "metadata": {
    "collapsed": true
   },
   "outputs": [],
   "source": [
    "learning_rate = 1e-2"
   ]
  },
  {
   "cell_type": "code",
   "execution_count": 53,
   "metadata": {},
   "outputs": [
    {
     "name": "stdout",
     "output_type": "stream",
     "text": [
      "0 2.270323043439472\n",
      "10000 3.965309805831293e-05\n",
      "20000 2.851154365205394e-16\n",
      "30000 4.277364065479699e-27\n",
      "40000 4.277364065479699e-27\n"
     ]
    }
   ],
   "source": [
    "# initialize weights randomly \n",
    "# if w is a Tensor with requires_grad = True then\n",
    "#after backpropagation w.grad will be another Tensor holding the gradient of x\n",
    "\n",
    "#ReLU activation: only converge at eta = 1e-3\n",
    "#interesting point : for 2 hidden nodes, the NN will not converge (Try it yourself) \n",
    "#                    at 10 hidden nodes, the NN will converge \n",
    "\n",
    "#Sigmoid activation: converge at eta = 5e-1\n",
    "#interesting point : for 2 hidden nodes, the NN WILL converge (Try it yourself) \n",
    "\n",
    "w1 = torch.rand(3,2, requires_grad = True,dtype = torch.double) \n",
    "w2 = torch.rand(2,1, requires_grad = True,dtype = torch.double)\n",
    "\n",
    "#Lesson: Re\n",
    "#gradient descent step:\n",
    "for i in range (50000):\n",
    "    #forward pass: go from input layer to output layer\n",
    "    #y_pred = x.mm(w1).clamp(min=0).mm(w2)\n",
    "    y_pred = sigmoid(x.mm(w1)).mm(w2)\n",
    "    \n",
    "    #compute and print the loss\n",
    "    loss = (y_pred-y).pow(2).sum()\n",
    "    if (i%10000 == 0):\n",
    "        print(i,loss.item())\n",
    "        \n",
    "    #note that loss is a scalar\n",
    "    loss.backward()\n",
    "    \n",
    "    #compute the gradient using autograd backprop from Pytorch\n",
    "    with torch.no_grad():\n",
    "        #update weights\n",
    "        w1 -= learning_rate * w1.grad\n",
    "        w2 -= learning_rate * w2.grad\n",
    "        #zero out the gradient\n",
    "        w1.grad.zero_()\n",
    "        w2.grad.zero_()\n",
    "        "
   ]
  },
  {
   "cell_type": "code",
   "execution_count": 54,
   "metadata": {},
   "outputs": [
    {
     "data": {
      "text/plain": [
       "tensor([[ 3.3196e-14],\n",
       "        [ 1.0000e+00],\n",
       "        [ 1.0000e+00],\n",
       "        [ 3.9968e-14]], dtype=torch.float64)"
      ]
     },
     "execution_count": 54,
     "metadata": {},
     "output_type": "execute_result"
    }
   ],
   "source": [
    "y_pred"
   ]
  },
  {
   "cell_type": "code",
   "execution_count": 189,
   "metadata": {},
   "outputs": [
    {
     "data": {
      "text/plain": [
       "tensor([[ 3.6963,  1.3268],\n",
       "        [ 3.7856,  1.3463],\n",
       "        [-1.2793, -1.6572]], dtype=torch.float64)"
      ]
     },
     "execution_count": 189,
     "metadata": {},
     "output_type": "execute_result"
    }
   ],
   "source": [
    "w1"
   ]
  },
  {
   "cell_type": "code",
   "execution_count": 190,
   "metadata": {},
   "outputs": [
    {
     "data": {
      "text/plain": [
       "tensor([[ 2.8593],\n",
       "        [-3.8868]], dtype=torch.float64)"
      ]
     },
     "execution_count": 190,
     "metadata": {},
     "output_type": "execute_result"
    }
   ],
   "source": [
    "w2"
   ]
  }
 ],
 "metadata": {
  "kernelspec": {
   "display_name": "Python 3",
   "language": "python",
   "name": "python3"
  },
  "language_info": {
   "codemirror_mode": {
    "name": "ipython",
    "version": 3
   },
   "file_extension": ".py",
   "mimetype": "text/x-python",
   "name": "python",
   "nbconvert_exporter": "python",
   "pygments_lexer": "ipython3",
   "version": "3.6.2"
  }
 },
 "nbformat": 4,
 "nbformat_minor": 2
}
